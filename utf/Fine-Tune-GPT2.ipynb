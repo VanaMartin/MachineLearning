{
 "cells": [
  {
   "cell_type": "markdown",
   "id": "5c3abb1e",
   "metadata": {},
   "source": [
    "# Fine tuning GPT-2 model with Google/AirDialog dataset\n",
    "\n",
    "Here we attempt the fine tuning the pre-trained GPT-2 model with open dataset to generate answers for conversation between client and agent in Ticket Booking dataset. The idea is to evaluate the work necessary for obtaining customized model for conversations."
   ]
  },
  {
   "cell_type": "code",
   "execution_count": 1,
   "id": "ee7bfad2",
   "metadata": {},
   "outputs": [
    {
     "name": "stderr",
     "output_type": "stream",
     "text": [
      "2023-01-08 14:14:33.011095: I tensorflow/core/platform/cpu_feature_guard.cc:193] This TensorFlow binary is optimized with oneAPI Deep Neural Network Library (oneDNN) to use the following CPU instructions in performance-critical operations:  AVX2 FMA\n",
      "To enable them in other operations, rebuild TensorFlow with the appropriate compiler flags.\n",
      "2023-01-08 14:14:33.662815: W tensorflow/compiler/xla/stream_executor/platform/default/dso_loader.cc:64] Could not load dynamic library 'libnvinfer.so.7'; dlerror: libnvinfer.so.7: cannot open shared object file: No such file or directory\n",
      "2023-01-08 14:14:33.662871: W tensorflow/compiler/xla/stream_executor/platform/default/dso_loader.cc:64] Could not load dynamic library 'libnvinfer_plugin.so.7'; dlerror: libnvinfer_plugin.so.7: cannot open shared object file: No such file or directory\n",
      "2023-01-08 14:14:33.662878: W tensorflow/compiler/tf2tensorrt/utils/py_utils.cc:38] TF-TRT Warning: Cannot dlopen some TensorRT libraries. If you would like to use Nvidia GPU with TensorRT, please make sure the missing libraries mentioned above are installed properly.\n"
     ]
    }
   ],
   "source": [
    "import time\n",
    "import datetime\n",
    "import random\n",
    "\n",
    "import torch\n",
    "\n",
    "\n",
    "from transformers import GPT2LMHeadModel, GPT2Config, GPT2Tokenizer\n",
    "\n",
    "import numpy as np"
   ]
  },
  {
   "cell_type": "markdown",
   "id": "0ad947d2",
   "metadata": {},
   "source": [
    "## Build the dataset representation from given files\n",
    "\n",
    "Note: This code should be moved to a library as it will be useful for other training systems."
   ]
  },
  {
   "cell_type": "code",
   "execution_count": 2,
   "id": "e247d3d2",
   "metadata": {
    "scrolled": true
   },
   "outputs": [
    {
     "name": "stderr",
     "output_type": "stream",
     "text": [
      "Special tokens have been added in the vocabulary, make sure the associated word embeddings are fine-tuned or trained.\n"
     ]
    },
    {
     "name": "stdout",
     "output_type": "stream",
     "text": [
      "[BOS] [USR] Hello. [EOS] [SYS] Hello. [SEP] How may I help you? [EOS] [USR] Can you help me to change my recent reservation because my trip dates are got postponed? [EOS] [SYS] I will help you with that please share your name to proceed further? [EOS] [USR] Edward hall here. [EOS] [SYS] Please wait for a while. [EOS] [USR] Sure, take your own time. [EOS] [SYS] There is no active reservation found under your name to amend it. [EOS]\n",
      "[BOS] [USR] That's ok, thank you for checking. [EOS] [SYS] Thank you for choosing us. [EOS]\n",
      "[BOS] [USR] HI. [EOS] [SYS] Hello. [SEP] How may I be of your address? [EOS] [USR] I want to book a flight ticket to Las Vegas with price under 1000. [SEP] Can you please help me with it? [EOS] [SYS] Sure, can I know your connection limit? [EOS] [USR] I need a single connection. [EOS] [SYS] Please let me know your boarding and landing points. [EOS] [USR] Airport codes are HOU-LAS. [EOS] [SYS] Kindly share your planned travelling dates to proceed further. [EOS]\n",
      "[BOS] [USR] Travel dates are 04/03 and 04/05. [EOS] [SYS] Please wait a while. [EOS] [USR] Ok. [EOS] [SYS] We found a Frontier airline matching your essential details with one connection and the flight number-1006. [EOS] [USR] Please proceed booking with the name Stephen Evans. [EOS] [SYS] Your booking has been processed successfully. [EOS] [USR] Thanks for the help. [EOS] [SYS] You're welcome. [SEP] Happy journey. [EOS]\n",
      "[BOS] [USR] Hello. [EOS] [SYS] Hello, do you need any help from us? [EOS] [USR] Can you please help me in reserving my flight from ORD to reach ATL? [EOS] [SYS] Sure, could you please share your departure and arrival day? [EOS] [USR] Thank you, my travelling dates are Apr 3rd and Apr 5th. [EOS] [SYS] Ok, could I have your name please? [EOS] [USR] I am Gary Taylor. [EOS] [SYS] Ok, do you need direct or connecting flight? [EOS]\n",
      "[BOS] [USR] I prefer a single connecting flight. [EOS] [SYS] Ok, do you have any other specifications? [EOS] [USR] I don't have any other specifications. [EOS] [SYS] The economy class with flight number 1014 of Frontier airline is available having fare as 200 and connection as 1, is it ok for you? [EOS] [USR] Yes, please proceed by booking. [EOS] [SYS] Ok, your reservation is confirmed. [SEP] The departure time is 6:00 hours and the arrival time is 10:00 hours. [EOS]\n",
      "[BOS] [USR] Thank you for the help. [EOS] [SYS] Thank you for reaching our service. [EOS]\n",
      "[BOS] [USR] Hi. [SEP] Donna Evans here. [EOS] [SYS] Hello, how can I help you today? [EOS] [USR] I would like to prefer a flight with lay-by option for my business trip to Oakland. [SEP] Can you book a flight ticket? [EOS] [SYS] Sure, let me know your travel dates please? [EOS] [USR] The trip dates are from 01 Feb to 03 Feb. [EOS] [SYS] Can I know your airport codes? [EOS] [USR] The airport codes are from PHL to OAK. [EOS] [SYS] Any preferences you have? [EOS]\n",
      "[BOS] [USR] No, that is it. [EOS] [SYS] Spirit Airlines has a connecting flight with number 1018 for fare 200, shall I proceed? [EOS] [USR] I am fine with the airlines. [SEP] You can book the flight ticket. [EOS] [SYS] Your ticket is reserved in economy class. [EOS] [USR] Thank you. [EOS] [SYS] Thank you for opting us. [EOS]\n",
      "[BOS] [USR] Hello. [EOS] [SYS] Hello. [SEP] How can I help you? [EOS] [USR] I am Gregory Allen. [SEP] I want to attend a live music concert in EWr, can you please find a flight from ORD? [EOS] [SYS] Sure, I will help you to book a flight. [SEP] Can you please share me your travelling dates? [EOS] [USR] I want to start my journey on 10/10 and my return will be on 10/12. [EOS] [SYS] Please hold on for a moment. [EOS]\n",
      "141\n",
      "[BOS] [USR] Hello. [EOS] [SYS] Hello. [EOS] [USR] My name is Emily Edwards. [EOS] [SYS] How may I help you out? [EOS] [USR] I need some help in my flight ticket reservation to attend a convocation meeting, can you please help me? [EOS] [SYS] Sure, I will help you out. [SEP] May I know your travelling dates please? [EOS] [USR] Thank you and my dates are 06/12 and back on 06/14. [EOS] [SYS] Can I know your airport codes? [EOS]\n",
      "[BOS] [USR] The airport codes are from DFW to IAD. [EOS] [SYS] Ok, please wait a moment. [EOS] [USR] Sure. [EOS] [SYS] There is a flight with connection 1 and price 200, can I proceed with this flight? [EOS] [USR] Yes, do proceed with booking. [EOS] [SYS] Ok, your ticket has been booked. [EOS] [USR] Thank you for your assistance in my flight ticket reservation. [EOS] [SYS] Thank you for choosing us. [EOS]\n",
      "[BOS] [USR] Hi. [SEP] I am Sarah Johnson. [EOS] [SYS] Hello, how may I provide assistance to you? [EOS] [USR] I want to cancel my reservation, can you help me with that? [EOS] [SYS] Sure, I am here to help you. [EOS] [USR] Thank you. [EOS] [SYS] Please wait for a while, I will check the reservation in the database and get back to you. [EOS] [USR] Sure, take your time. [EOS] [SYS] Sorry, there is no reservation found on your name. [EOS]\n",
      "[BOS] [USR] Ok, thank you. [EOS] [SYS] Thank you for reaching us. [EOS]\n",
      "[BOS] [SYS] Hello. [EOS] [USR] Hello. [EOS] [SYS] How can I assist you? [EOS] [USR] I need to attend a marriage at New York, can you please help me in booking a flight ticket from DEN to LGA? [EOS] [SYS] Ok, may I know your travelling dates? [EOS] [USR] Sure, my travelling dates are from 10/05 to 10/07. [EOS] [SYS] Ok, please wait. [EOS] [USR] Sure. [EOS] [SYS] Sorry, no flights found on your route. [EOS] [USR] That's ok, no problem. [EOS]\n",
      "[BOS] [SYS] May I know your name?. [EOS] [USR] Myself Nicholas Wilson. [EOS] [SYS] Thank you for reaching us. [EOS] [USR] Thank you for the information. [EOS]\n",
      "[BOS] [USR] Hello, I am Charles Johnson. [EOS] [SYS] Hello, how may I help you? [EOS] [USR] I would like to go to a event in Philadelphia, so could you please book a ticket for me? [EOS] [SYS] Sure. [SEP] Please share your journey dates. [EOS] [USR] I would like to go on 09/10 and return back on 09/12. [EOS] [SYS] Can I have your nearby airport codes? [EOS] [USR] My source and destination airport codes are PHX and PHL. [EOS] [SYS] Please wait for a moment. [EOS]\n",
      "[BOS] [USR] Ok, ensure it is a direct flight. [EOS] [SYS] There is a direct flight available on your given dates, shall I proceed? [EOS] [USR] Ok, please proceed for further if it costs you below 200. [EOS] [SYS] Your booking is done with flight number 1009. [SEP] Happy journey. [EOS] [USR] Thank you for booking. [EOS] [SYS] You are welcome. [SEP] Thank you for opting us, have a nice day. [EOS]\n",
      "[BOS] [USR] Hi. [EOS] [SYS] Hello, how can I help you today? [EOS] [USR] Could you please book a flight ticket from DEN to DTW as I want to attend a pioneer festival? [EOS] [SYS] Sure, please share your planned travel dates? [EOS] [USR] My travel dates are June 24 and June 26. [EOS] [SYS] Do you have any connection limit? [EOS] [USR] I need a single connecting flight. [EOS] [SYS] Any other preferences? [EOS] [USR] No. [EOS] [SYS] Can I have your name please? [EOS]\n",
      "[BOS] [USR] My name is Barbara Turner. [EOS] [SYS] United airlines flight 1010 available with connection and fare is 100, shall I confirm this economy class flight? [EOS] [USR] Yes, please confirm it. [EOS] [SYS] Ok, your ticket has been processed. [EOS] [USR] Thank you for your service. [EOS] [SYS] Thank you for your help. [SEP] Thank you for opting us. [EOS]\n",
      "129\n",
      "train_size : 90000\n",
      "val_size   : 10001\n"
     ]
    },
    {
     "data": {
      "text/plain": [
       "0"
      ]
     },
     "execution_count": 2,
     "metadata": {},
     "output_type": "execute_result"
    }
   ],
   "source": [
    "import json\n",
    "import os\n",
    "import gc\n",
    "\n",
    "from torch.utils.data import Dataset\n",
    "from torch.utils.data import random_split\n",
    "from torch.utils.data import DataLoader, RandomSampler, SequentialSampler\n",
    "\n",
    "from transformers import GPT2Tokenizer\n",
    "\n",
    "DATADIR = \"/home/martin/data/airdialogue/airdialogue/\"\n",
    "\n",
    "SPECIAL_TOKENS_DICT = { \"additional_special_tokens\": [\"[USR]\", \"[SYS]\", \"[SEP]\"] }\n",
    "#get pretrained tokenizer\n",
    "tokenizer = GPT2Tokenizer.from_pretrained(\n",
    "    'gpt2',\n",
    "    add_special_tokens=True,\n",
    "    bos_token='[BOS]',\n",
    "    eos_token='[EOS]',\n",
    "    pad_token='[PAD]'\n",
    ")\n",
    "tokenizer.add_special_tokens(SPECIAL_TOKENS_DICT)\n",
    "\n",
    "\n",
    "class AirdialogDataset(Dataset):\n",
    "    \"\"\"Google AirDialog dataset as two utterance pair\n",
    "    \n",
    "    As we intend to train a conversational model, we will build the dataset as concatenated\n",
    "    chunks of customer and agent text response.\n",
    "    \"\"\"\n",
    "    \n",
    "    def __init__(self, path, tokenizer, gpt2_type=\"gpt2\", max_size=-1):\n",
    "    \n",
    "        self.tokenizer = tokenizer \n",
    "        self.input_ids = []\n",
    "        self.attn_masks = []\n",
    "        self.max_size = max_size\n",
    "        \n",
    "        # intializes max_lenght as well\n",
    "        sentences = [ _ for _ in self.get_sentences(path, max_size) ]\n",
    "\n",
    "        self.max_length = max(len(tokenizer.encode(s)) for s in sentences)\n",
    "        print(self.max_length)\n",
    "\n",
    "        for sentence in sentences:  \n",
    "            encodings = tokenizer(sentence, max_length=self.max_length, truncation=True, padding=\"max_length\")\n",
    "\n",
    "            self.input_ids.append(torch.tensor(encodings['input_ids']))\n",
    "            self.attn_masks.append(torch.tensor(encodings['attention_mask']))\n",
    "    \n",
    "    @classmethod\n",
    "    def get_sentences(cls, path, max_size=-1):\n",
    "        \"\"\"Generates list of sentences per stored dialogue\n",
    "        \n",
    "        Version 1. concat all sentences into one string and let's see how well will this go.\n",
    "        \"\"\"\n",
    "        def _parse_dialogue_chunk(utterances:list) -> str:\n",
    "            for i, utt in enumerate(utterances):\n",
    "                utterances[i] = utt.replace(\"customer:\", \"[USR]\")\\\n",
    "                .replace(\"agent:\", \"[SYS]\")\\\n",
    "                .replace(\". \", \". [SEP] \")\\\n",
    "                .replace(\"? \", \"? [SEP] \")\\\n",
    "                .replace(\"! \", \"! [SEP] \")\n",
    "            return \" [EOS] \".join(utterances)\n",
    "        \n",
    "        def _split_utts(utterances, size):\n",
    "            out = []\n",
    "            count = 0\n",
    "            for usr, sys in zip(utterances[::2], utterances[1::2]):\n",
    "                add = len(usr.split(\" \")) + len(sys.split(\" \"))\n",
    "                if count + add < size:\n",
    "                    out += [usr, sys]\n",
    "                    count += add\n",
    "                else:\n",
    "                    yield out\n",
    "                    out = [usr, sys]\n",
    "                    count = add\n",
    "            \n",
    "            if len(out) > 1:\n",
    "                # At least two utterances on the end, otherwise no value\n",
    "                yield out\n",
    "        \n",
    "        with open(path, \"r\") as f:\n",
    "            count = 0\n",
    "            for line in f.readlines():\n",
    "                content = json.loads(line)\n",
    "                dialogue = content[\"dialogue\"]\n",
    "                for chunk in _split_utts(dialogue, 80):\n",
    "                    res = \"[BOS] \" + _parse_dialogue_chunk(chunk) + \" [EOS]\"\n",
    "                    if count < 10:\n",
    "                        print(res)\n",
    "                    yield res\n",
    "                    count += 1\n",
    "                if max_size > 0 and count > max_size:\n",
    "                    break\n",
    "                \n",
    "    def __len__(self):\n",
    "        return len(self.input_ids)\n",
    "\n",
    "    def __getitem__(self, idx):\n",
    "        return self.input_ids[idx], self.attn_masks[idx]   \n",
    "\n",
    "\n",
    "dataset = AirdialogDataset(os.path.join(DATADIR, \"train_data.json\"), tokenizer, max_size=100000)\n",
    "testset = AirdialogDataset(os.path.join(DATADIR, \"dev_data.json\"), tokenizer, max_size=2000)\n",
    "\n",
    "# Split into training and validation sets\n",
    "train_size = int(0.9 * len(dataset))\n",
    "val_size = len(dataset) - train_size\n",
    "\n",
    "train_set, val_set = random_split(dataset, [train_size, val_size])\n",
    "print(\"train_size :\",train_size)\n",
    "print(\"val_size   :\",val_size)\n",
    "\n",
    "#define dataloaders\n",
    "train_dataloader = DataLoader(train_set,  sampler = RandomSampler(train_set), batch_size = 20)\n",
    "validation_dataloader = DataLoader(val_set, sampler = SequentialSampler(val_set), batch_size = 20)\n",
    "\n",
    "gc.collect()"
   ]
  },
  {
   "cell_type": "markdown",
   "id": "0ae47d43",
   "metadata": {},
   "source": [
    "## Declare the model\n",
    "\n",
    "Here we will reshape the embedding to include our special tokens"
   ]
  },
  {
   "cell_type": "code",
   "execution_count": 3,
   "id": "21e62bcf",
   "metadata": {},
   "outputs": [],
   "source": [
    "# Create default config\n",
    "configuration = GPT2Config.from_pretrained('gpt2', output_hidden_states=False)\n",
    "# Load pretrained gpt2\n",
    "model = GPT2LMHeadModel.from_pretrained(\"gpt2\", config=configuration)\n",
    "model.resize_token_embeddings(len(tokenizer))\n",
    "\n",
    "# Create device\n",
    "device = torch.device(\"cuda\")\n",
    "model.cuda()\n",
    "\n",
    "optimizer = torch.optim.Adam(model.parameters(),lr = 0.0005)\n",
    "model = model.to(device)"
   ]
  },
  {
   "cell_type": "code",
   "execution_count": 4,
   "id": "d5bb1ab0",
   "metadata": {},
   "outputs": [],
   "source": [
    "### TODO Add some simple test based on actual data to see the status"
   ]
  },
  {
   "cell_type": "code",
   "execution_count": 5,
   "id": "f04ccf63",
   "metadata": {},
   "outputs": [],
   "source": [
    "#call model with a batch of input\n",
    "def process_one_batch(model, batch):\n",
    "    b_input_ids = batch[0].to(device)\n",
    "    b_labels = batch[0].to(device)\n",
    "    b_masks = batch[1].to(device)\n",
    "    outputs  = model(b_input_ids,  attention_mask = b_masks,labels=b_labels)\n",
    "    return outputs\n",
    "\n",
    "#do one epoch for training\n",
    "def train_epoch(model, dataloader):\n",
    "    t0 = time.monotonic()\n",
    "    total_train_loss = 0\n",
    "    model.train()\n",
    "    for step, batch in enumerate(dataloader):\n",
    "        \n",
    "        model.zero_grad()        \n",
    "        outputs = process_one_batch(model, batch)\n",
    "        loss = outputs[0]\n",
    "        batch_loss = loss.item()\n",
    "        total_train_loss += batch_loss\n",
    "\n",
    "        loss.backward()\n",
    "        optimizer.step()\n",
    "        \n",
    "    avg_train_loss = total_train_loss / len(dataloader)  \n",
    "    print(\"avg_train_loss\", avg_train_loss)\n",
    "    elapsed_time = time.monotonic() - t0\n",
    "    print(\"elapsed time for 1 training epoch : \",elapsed_time)\n",
    "\n",
    "#do one epoch for eval\n",
    "def eval_epoch(model, dataloader):\n",
    "    t0 = time.monotonic()\n",
    "    total_eval_loss = 0\n",
    "    nb_eval_steps = 0\n",
    "    # Evaluate data for one epoch\n",
    "    for batch in dataloader:            \n",
    "        \n",
    "        with torch.no_grad():        \n",
    "            outputs = process_one_batch(model, batch)\n",
    "            loss = outputs[0]              \n",
    "            batch_loss = loss.item()\n",
    "            total_eval_loss += batch_loss         \n",
    "\n",
    "    avg_val_loss = total_eval_loss / len(validation_dataloader)\n",
    "    print(\"avg_val_loss\",avg_val_loss) \n",
    "    elapsed_time = time.monotonic() - t0\n",
    "    print(\"elapsed time for 1 eval epoch : \",elapsed_time)\n",
    "    \n",
    "#at every step i want to check if generations are getting better.\n",
    "def show_sentences(model):\n",
    "    model.eval()\n",
    "\n",
    "    eos = tokenizer.convert_tokens_to_ids([\"[EOS]\"])[0]\n",
    "    input_sentences = [\n",
    "        \"[BOS] [USR] Hi. [EOS]\",\n",
    "        \"[USR] Could you please book a flight ticket from DEN to DTW as I want to attend a pioneer festival? [EOS]\",\n",
    "        \"[USR] My travel dates are June 24 and June 26. [EOS]\",\n",
    "        \"[USR] I need a single connecting flight. [EOS]\",\n",
    "        \"[USR] No. [EOS]\"\n",
    "    ]\n",
    "    \n",
    "    context = \"\"\n",
    "    for i, input_seq in enumerate(input_sentences):\n",
    "        print(f\"Input: {input_seq}\")\n",
    "        input_seq = \" \".join([context, input_seq])\n",
    "        input_tkn = tokenizer.encode(input_seq)\n",
    "        \n",
    "        inputs = torch.tensor(tokenizer.encode(input_seq)).unsqueeze(0)\n",
    "        inputs = inputs.to(device)\n",
    "        \n",
    "        sample_output = model.generate(\n",
    "            inputs, \n",
    "            do_sample=True,   \n",
    "            top_k=30, \n",
    "            max_length = 100,\n",
    "            top_p=0.90, \n",
    "            num_return_sequences=1\n",
    "        )[0]\n",
    "        pruned = sample_output[len(input_tkn):]\n",
    "        for i, tkn in enumerate(pruned):\n",
    "            if tkn == eos:\n",
    "                pruned = pruned[:i+1]\n",
    "                break\n",
    "        print(f\"Resp: {tokenizer.decode(pruned)}\")\n",
    "        #print(\"{}: {}\".format(i, tokenizer.decode(sample_output, skip_special_tokens=False)))"
   ]
  },
  {
   "cell_type": "code",
   "execution_count": 6,
   "id": "6e7901a5",
   "metadata": {},
   "outputs": [
    {
     "name": "stderr",
     "output_type": "stream",
     "text": [
      "The attention mask and the pad token id were not set. As a consequence, you may observe unexpected behavior. Please pass your input's `attention_mask` to obtain reliable results.\n",
      "Setting `pad_token_id` to `eos_token_id`:50256 for open-end generation.\n"
     ]
    },
    {
     "name": "stdout",
     "output_type": "stream",
     "text": [
      "Input: [BOS] [USR] Hi. [EOS]\n"
     ]
    },
    {
     "name": "stderr",
     "output_type": "stream",
     "text": [
      "The attention mask and the pad token id were not set. As a consequence, you may observe unexpected behavior. Please pass your input's `attention_mask` to obtain reliable results.\n",
      "Setting `pad_token_id` to `eos_token_id`:50256 for open-end generation.\n"
     ]
    },
    {
     "name": "stdout",
     "output_type": "stream",
     "text": [
      "Resp: [SYS] [BOS] [BOS] [BOS] [BOS] [BOS] [BOS] [BOS] [BOS] [BOS] [BOS] [BOS] [SYS] [BOS] [SYS] [BOS] [BOS] [BOS] [BOS] [BOS] [BOS] [BOS] [BOS] [BOS] [BOS] [BOS] [BOS] [BOS] [BOS] [USR] [EOS]\n",
      "Input: [USR] Could you please book a flight ticket from DEN to DTW as I want to attend a pioneer festival? [EOS]\n"
     ]
    },
    {
     "name": "stderr",
     "output_type": "stream",
     "text": [
      "The attention mask and the pad token id were not set. As a consequence, you may observe unexpected behavior. Please pass your input's `attention_mask` to obtain reliable results.\n",
      "Setting `pad_token_id` to `eos_token_id`:50256 for open-end generation.\n"
     ]
    },
    {
     "name": "stdout",
     "output_type": "stream",
     "text": [
      "Resp: [BOS] [BOS] [BOS] [BOS] [BOS] [SYS] [USR] [SYS] [SYS] [BOS] [BOS] [BOS] [SYS] [SYS] [USR] [SYS] [USR] [BOS] [SYS] [SYS] [SYS] [USR] [SYS] [BOS] [SYS] [SYS] [USR] [BOS] [SYS] [EOS]\n",
      "Input: [USR] My travel dates are June 24 and June 26. [EOS]\n"
     ]
    },
    {
     "name": "stderr",
     "output_type": "stream",
     "text": [
      "The attention mask and the pad token id were not set. As a consequence, you may observe unexpected behavior. Please pass your input's `attention_mask` to obtain reliable results.\n",
      "Setting `pad_token_id` to `eos_token_id`:50256 for open-end generation.\n"
     ]
    },
    {
     "name": "stdout",
     "output_type": "stream",
     "text": [
      "Resp: [BOS] [BOS] [SYS] [SYS] [BOS] [BOS] [BOS] [BOS] [BOS] [BOS] [BOS] [SYS] [USR] [SYS] [USR] [USR] [BOS] [BOS] [SYS] [SYS] [EOS]\n",
      "Input: [USR] I need a single connecting flight. [EOS]\n"
     ]
    },
    {
     "name": "stderr",
     "output_type": "stream",
     "text": [
      "The attention mask and the pad token id were not set. As a consequence, you may observe unexpected behavior. Please pass your input's `attention_mask` to obtain reliable results.\n",
      "Setting `pad_token_id` to `eos_token_id`:50256 for open-end generation.\n"
     ]
    },
    {
     "name": "stdout",
     "output_type": "stream",
     "text": [
      "Resp: [SYS] [BOS] [BOS] [BOS] [SYS] [BOS] [SYS] [BOS] [BOS] [SYS] [BOS] [BOS] [BOS] [BOS] [BOS] [BOS] [BOS] [BOS] [BOS] [BOS] [USR] [BOS] [BOS] [BOS] [SYS] [SYS] [BOS] [BOS] [USR] [BOS] [USR] [BOS] [BOS] [USR] [EOS]\n",
      "Input: [USR] No. [EOS]\n",
      "Resp: [BOS] [BOS] [BOS] [BOS] [BOS] [BOS] [BOS] [BOS] [BOS] [SYS] [BOS] [BOS] [BOS] [BOS] [BOS] [SYS] [BOS] [BOS] [BOS] [BOS] [BOS] [BOS] [BOS] [BOS] [BOS] [BOS] [BOS] [EOS]\n"
     ]
    }
   ],
   "source": [
    "show_sentences(model)"
   ]
  },
  {
   "cell_type": "code",
   "execution_count": 7,
   "id": "b955194b",
   "metadata": {
    "scrolled": false
   },
   "outputs": [
    {
     "name": "stdout",
     "output_type": "stream",
     "text": [
      "avg_train_loss 0.7092560136848026\n",
      "elapsed time for 1 training epoch :  1866.385577672\n"
     ]
    },
    {
     "name": "stdout",
     "output_type": "stream",
     "text": [
      "avg_val_loss 0.5170431025251895\n",
      "elapsed time for 1 eval epoch :  69.78717359499979\n",
      "Input: [BOS] [USR] Hi. [EOS]\n"
     ]
    },
    {
     "name": "stdout",
     "output_type": "stream",
     "text": [
      "Resp: [SYS] Hello, how can I aid you?  [EOS]\n",
      "Input: [USR] Could you please book a flight ticket from DEN to DTW as I want to attend a pioneer festival? [EOS]\n"
     ]
    },
    {
     "name": "stdout",
     "output_type": "stream",
     "text": [
      "Resp: [SYS] Please wait for a moment.  [EOS]\n",
      "Input: [USR] My travel dates are June 24 and June 26. [EOS]\n"
     ]
    },
    {
     "name": "stdout",
     "output_type": "stream",
     "text": [
      "Resp: [SYS] Is there any specific timings to depart and return?  [EOS]\n",
      "Input: [USR] I need a single connecting flight. [EOS]\n"
     ]
    },
    {
     "name": "stdout",
     "output_type": "stream",
     "text": [
      "Resp: [SYS] May I know your airline preference?  [EOS]\n",
      "Input: [USR] No. [EOS]\n",
      "Resp: [SYS] We found 1001 Frontier Airlines with single connection with economy class and flight number is 1026 with economy class. [SEP] Shall I proceed for booking?  [EOS]\n",
      "avg_train_loss 0.49315162052710854\n",
      "elapsed time for 1 training epoch :  1871.693765811\n"
     ]
    },
    {
     "name": "stdout",
     "output_type": "stream",
     "text": [
      "avg_val_loss 0.47952845704531716\n",
      "elapsed time for 1 eval epoch :  69.81591926899955\n",
      "Input: [BOS] [USR] Hi. [EOS]\n"
     ]
    },
    {
     "name": "stdout",
     "output_type": "stream",
     "text": [
      "Resp: [SYS] Hello. [SEP] How can I help you today?  [EOS]\n",
      "Input: [USR] Could you please book a flight ticket from DEN to DTW as I want to attend a pioneer festival? [EOS]\n"
     ]
    },
    {
     "name": "stdout",
     "output_type": "stream",
     "text": [
      "Resp: [SYS] May I know your trip dates?  [EOS]\n",
      "Input: [USR] My travel dates are June 24 and June 26. [EOS]\n"
     ]
    },
    {
     "name": "stdout",
     "output_type": "stream",
     "text": [
      "Resp: [SYS] May I know your preferred boarding and landing airport codes?  [EOS]\n",
      "Input: [USR] I need a single connecting flight. [EOS]\n"
     ]
    },
    {
     "name": "stdout",
     "output_type": "stream",
     "text": [
      "Resp: [SYS] May I know your good name please?  [EOS]\n",
      "Input: [USR] No. [EOS]\n",
      "Resp: [SYS] Thank you for waiting. [SEP] But I am sorry to say that there is no flight available in this route as per your travelling details.  [EOS]\n",
      "avg_train_loss 0.4569603205720584\n",
      "elapsed time for 1 training epoch :  1874.9408861679995\n"
     ]
    },
    {
     "name": "stdout",
     "output_type": "stream",
     "text": [
      "avg_val_loss 0.4568063116478111\n",
      "elapsed time for 1 eval epoch :  69.74603020399991\n",
      "Input: [BOS] [USR] Hi. [EOS]\n"
     ]
    },
    {
     "name": "stdout",
     "output_type": "stream",
     "text": [
      "Resp: [SYS] Hello. [SEP] How may I help you?  [EOS]\n",
      "Input: [USR] Could you please book a flight ticket from DEN to DTW as I want to attend a pioneer festival? [EOS]\n"
     ]
    },
    {
     "name": "stdout",
     "output_type": "stream",
     "text": [
      "Resp: [SYS] Ok, may I know your planned travel dates please?  [EOS]\n",
      "Input: [USR] My travel dates are June 24 and June 26. [EOS]\n"
     ]
    },
    {
     "name": "stdout",
     "output_type": "stream",
     "text": [
      "Resp: [SYS] Do you have any preferences for your journey?  [EOS]\n",
      "Input: [USR] I need a single connecting flight. [EOS]\n"
     ]
    },
    {
     "name": "stdout",
     "output_type": "stream",
     "text": [
      "Resp: [SYS] May I know your name for booking your flight ticket?  [EOS]\n",
      "Input: [USR] No. [EOS]\n",
      "Resp: [SYS] Ok, wait for some time I will check and get back to you.  [EOS]\n",
      "avg_train_loss 0.42884386374553046\n",
      "elapsed time for 1 training epoch :  1875.3040625780004\n"
     ]
    },
    {
     "name": "stdout",
     "output_type": "stream",
     "text": [
      "avg_val_loss 0.44419189347716387\n",
      "elapsed time for 1 eval epoch :  69.77165642900036\n",
      "Input: [BOS] [USR] Hi. [EOS]\n"
     ]
    },
    {
     "name": "stdout",
     "output_type": "stream",
     "text": [
      "Resp: [SYS] Hello. [SEP] How can I assist you?  [EOS]\n",
      "Input: [USR] Could you please book a flight ticket from DEN to DTW as I want to attend a pioneer festival? [EOS]\n"
     ]
    },
    {
     "name": "stdout",
     "output_type": "stream",
     "text": [
      "Resp: [SYS] Sure, I am happy to help you. [SEP] Please let me know your travelling dates.  [EOS]\n",
      "Input: [USR] My travel dates are June 24 and June 26. [EOS]\n"
     ]
    },
    {
     "name": "stdout",
     "output_type": "stream",
     "text": [
      "Resp: [SYS] Do you have any other specifications?  [EOS]\n",
      "Input: [USR] I need a single connecting flight. [EOS]\n"
     ]
    },
    {
     "name": "stdout",
     "output_type": "stream",
     "text": [
      "Resp: [SYS] Do you have any other specifications for this trip?  [EOS]\n",
      "Input: [USR] No. [EOS]\n",
      "Resp: [SYS] May I know your good name?  [EOS]\n",
      "avg_train_loss 0.40657353472709656\n",
      "elapsed time for 1 training epoch :  1875.5570044809992\n"
     ]
    },
    {
     "name": "stdout",
     "output_type": "stream",
     "text": [
      "avg_val_loss 0.4377269617573706\n",
      "elapsed time for 1 eval epoch :  69.68527582800016\n",
      "Input: [BOS] [USR] Hi. [EOS]\n"
     ]
    },
    {
     "name": "stdout",
     "output_type": "stream",
     "text": [
      "Resp: [SYS] Hello, how may I help you?  [EOS]\n",
      "Input: [USR] Could you please book a flight ticket from DEN to DTW as I want to attend a pioneer festival? [EOS]\n"
     ]
    },
    {
     "name": "stdout",
     "output_type": "stream",
     "text": [
      "Resp: [SYS] Please share your planned travel dates.  [EOS]\n",
      "Input: [USR] My travel dates are June 24 and June 26. [EOS]\n"
     ]
    },
    {
     "name": "stdout",
     "output_type": "stream",
     "text": [
      "Resp: [SYS] Would you like to travel in a connecting flight or a direct flight?  [EOS]\n",
      "Input: [USR] I need a single connecting flight. [EOS]\n"
     ]
    },
    {
     "name": "stdout",
     "output_type": "stream",
     "text": [
      "Resp: [SYS] May I know your class preference?  [EOS]\n",
      "Input: [USR] No. [EOS]\n",
      "Resp: [SYS] May I know your name please?  [EOS]\n",
      "avg_train_loss 0.3880218263367812\n",
      "elapsed time for 1 training epoch :  1875.5898526769997\n"
     ]
    },
    {
     "name": "stdout",
     "output_type": "stream",
     "text": [
      "avg_val_loss 0.43470200664269\n",
      "elapsed time for 1 eval epoch :  69.78501310899992\n",
      "Input: [BOS] [USR] Hi. [EOS]\n"
     ]
    },
    {
     "name": "stdout",
     "output_type": "stream",
     "text": [
      "Resp: [SYS] Hello. [SEP] How can I aid you?  [EOS]\n",
      "Input: [USR] Could you please book a flight ticket from DEN to DTW as I want to attend a pioneer festival? [EOS]\n"
     ]
    },
    {
     "name": "stdout",
     "output_type": "stream",
     "text": [
      "Resp: [SYS] Sure, please specify your connection limit and price limit.  [EOS]\n",
      "Input: [USR] My travel dates are June 24 and June 26. [EOS]\n"
     ]
    },
    {
     "name": "stdout",
     "output_type": "stream",
     "text": [
      "Resp: [SYS] May I know your airport codes?  [EOS]\n",
      "Input: [USR] I need a single connecting flight. [EOS]\n"
     ]
    },
    {
     "name": "stdout",
     "output_type": "stream",
     "text": [
      "Resp: [SYS] May I know your name to proceed?  [EOS]\n",
      "Input: [USR] No. [EOS]\n",
      "Resp: [SYS] May I know your name?  [EOS]\n",
      "avg_train_loss 0.37130008898178735\n",
      "elapsed time for 1 training epoch :  1875.2125434900008\n"
     ]
    },
    {
     "name": "stdout",
     "output_type": "stream",
     "text": [
      "avg_val_loss 0.4365191345443269\n",
      "elapsed time for 1 eval epoch :  69.69980028700047\n",
      "Input: [BOS] [USR] Hi. [EOS]\n"
     ]
    },
    {
     "name": "stdout",
     "output_type": "stream",
     "text": [
      "Resp: [SYS] Hello. [SEP] How can I aid you today?  [EOS]\n",
      "Input: [USR] Could you please book a flight ticket from DEN to DTW as I want to attend a pioneer festival? [EOS]\n"
     ]
    },
    {
     "name": "stdout",
     "output_type": "stream",
     "text": [
      "Resp: [SYS] Sure, may I know your journey dates?  [EOS]\n",
      "Input: [USR] My travel dates are June 24 and June 26. [EOS]\n"
     ]
    },
    {
     "name": "stdout",
     "output_type": "stream",
     "text": [
      "Resp: [SYS] Do you have any connection limit preference?  [EOS]\n",
      "Input: [USR] I need a single connecting flight. [EOS]\n"
     ]
    },
    {
     "name": "stdout",
     "output_type": "stream",
     "text": [
      "Resp: [SYS] Please wait for a mean while.  [EOS]\n",
      "Input: [USR] No. [EOS]\n",
      "Resp: [SYS] Can I have your good name please?  [EOS]\n",
      "avg_train_loss 0.35573135691550045\n",
      "elapsed time for 1 training epoch :  1875.6051464559987\n"
     ]
    },
    {
     "name": "stdout",
     "output_type": "stream",
     "text": [
      "avg_val_loss 0.43829745429004735\n",
      "elapsed time for 1 eval epoch :  69.72021361599946\n",
      "Input: [BOS] [USR] Hi. [EOS]\n"
     ]
    },
    {
     "name": "stdout",
     "output_type": "stream",
     "text": [
      "Resp: [SYS] Hello. [SEP] How may I guide you?  [EOS]\n",
      "Input: [USR] Could you please book a flight ticket from DEN to DTW as I want to attend a pioneer festival? [EOS]\n"
     ]
    },
    {
     "name": "stdout",
     "output_type": "stream",
     "text": [
      "Resp: [SYS] Sure, let me know your journey dates.  [EOS]\n",
      "Input: [USR] My travel dates are June 24 and June 26. [EOS]\n"
     ]
    },
    {
     "name": "stdout",
     "output_type": "stream",
     "text": [
      "Resp: [SYS] Ok, please wait for a while.  [EOS]\n",
      "Input: [USR] I need a single connecting flight. [EOS]\n"
     ]
    },
    {
     "name": "stdout",
     "output_type": "stream",
     "text": [
      "Resp: [SYS] Do you have any other specifications?  [EOS]\n",
      "Input: [USR] No. [EOS]\n",
      "Resp: [SYS] There is a connecting flight 1002 of UA airlines, can I proceed?  [EOS]\n"
     ]
    }
   ],
   "source": [
    "for i in range(20):\n",
    "    #train eval 1 cycle\n",
    "    #then create sample sentences\n",
    "    train_epoch(model, train_dataloader)\n",
    "    eval_epoch(model, validation_dataloader)\n",
    "    show_sentences(model)"
   ]
  },
  {
   "cell_type": "code",
   "execution_count": 8,
   "id": "dd100db3",
   "metadata": {},
   "outputs": [],
   "source": [
    "torch.save(model.state_dict(), \"output/GPT2-airdialog.ckpt\")"
   ]
  },
  {
   "cell_type": "code",
   "execution_count": null,
   "id": "26d793f5",
   "metadata": {},
   "outputs": [],
   "source": []
  }
 ],
 "metadata": {
  "kernelspec": {
   "display_name": "Python 3 (ipykernel)",
   "language": "python",
   "name": "python3"
  },
  "language_info": {
   "codemirror_mode": {
    "name": "ipython",
    "version": 3
   },
   "file_extension": ".py",
   "mimetype": "text/x-python",
   "name": "python",
   "nbconvert_exporter": "python",
   "pygments_lexer": "ipython3",
   "version": "3.9.13"
  }
 },
 "nbformat": 4,
 "nbformat_minor": 5
}
